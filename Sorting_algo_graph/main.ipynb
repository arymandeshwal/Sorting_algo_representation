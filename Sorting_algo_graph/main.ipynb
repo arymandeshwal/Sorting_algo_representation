{
 "cells": [
  {
   "cell_type": "code",
   "execution_count": 1,
   "metadata": {},
   "outputs": [
    {
     "name": "stdout",
     "output_type": "stream",
     "text": [
      "Welcome to the program choose any one!\n"
     ]
    }
   ],
   "source": [
    "import selection_sort\n",
    "import bubble_sort\n",
    "import insertion_sort\n",
    "import shell_sort\n",
    "print(\"Welcome to the program choose any one!\")"
   ]
  },
  {
   "cell_type": "code",
   "execution_count": null,
   "metadata": {},
   "outputs": [
    {
     "name": "stdout",
     "output_type": "stream",
     "text": [
      "Enter:\n",
      "[1] for Selection Sort\n",
      "[2] for Bubble Sort\n",
      "[3] for Insertion Sort\n",
      "[4] for Shell Sort\n",
      "1\n"
     ]
    },
    {
     "name": "stderr",
     "output_type": "stream",
     "text": [
      "c:\\program files\\python37\\lib\\site-packages\\matplotlib\\figure.py:459: UserWarning: matplotlib is currently using a non-GUI backend, so cannot show the figure\n",
      "  \"matplotlib is currently using a non-GUI backend, \"\n"
     ]
    }
   ],
   "source": [
    "while True:\n",
    "    ch=int(input('Enter:\\n[1] for Selection Sort\\n[2] for Bubble Sort\\n[3] for Insertion Sort\\n[4] for Shell Sort\\n'))\n",
    "    if ch == 1:\n",
    "        selection_sort.selection()\n",
    "    elif ch == 2:\n",
    "        bubble_sort.bubble()\n",
    "    elif ch == 3:\n",
    "        insertion_sort.insertion()\n",
    "    elif ch == 4:\n",
    "        shell_sort.shell()\n",
    "    else:\n",
    "        print('Wrong Input!')\n",
    "        \n",
    "    t = input('Do you wanna try again ?[y/n]\\t')\n",
    "    if t == 'n' or t== 'N':\n",
    "        print('Thank you!')\n",
    "        break"
   ]
  },
  {
   "cell_type": "code",
   "execution_count": null,
   "metadata": {},
   "outputs": [],
   "source": []
  }
 ],
 "metadata": {
  "kernelspec": {
   "display_name": "Python 3",
   "language": "python",
   "name": "python3"
  },
  "language_info": {
   "codemirror_mode": {
    "name": "ipython",
    "version": 3
   },
   "file_extension": ".py",
   "mimetype": "text/x-python",
   "name": "python",
   "nbconvert_exporter": "python",
   "pygments_lexer": "ipython3",
   "version": "3.7.0"
  }
 },
 "nbformat": 4,
 "nbformat_minor": 2
}
